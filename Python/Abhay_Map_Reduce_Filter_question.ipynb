{
 "cells": [
  {
   "cell_type": "code",
   "execution_count": null,
   "metadata": {
    "id": "BgC9TONWTLjZ"
   },
   "outputs": [],
   "source": [
    "# Write a Python program to triple all numbers of a given list of integers. Use Python map\n",
    "numbers = [1, 2, 3, 4, 5]\n",
    "\n",
    "result = list(map(lambda x: x * 3, numbers))\n",
    "\n",
    "print(result)\n"
   ]
  },
  {
   "cell_type": "code",
   "execution_count": 3,
   "metadata": {
    "id": "NTITH4iVTLjd"
   },
   "outputs": [
    {
     "data": {
      "text/plain": [
       "[12, 15, 18]"
      ]
     },
     "execution_count": 3,
     "metadata": {},
     "output_type": "execute_result"
    }
   ],
   "source": [
    "# Write a Python program to add three given lists using Python map and lambda\n",
    "lst_1 = [1,2,3]\n",
    "lst_2 = [4,5,6]\n",
    "lst_3 = [7,8,9]\n",
    "\n",
    "lst= list(map(lambda x,y,z:x+y+z,lst_1,lst_2,lst_3))\n",
    "lst"
   ]
  },
  {
   "cell_type": "code",
   "execution_count": 9,
   "metadata": {
    "id": "nI3MjaVRTLjd"
   },
   "outputs": [],
   "source": [
    "# Write a Python program to add two given lists and find the difference between lists\n",
    "from functools import reduce\n",
    "\n"
   ]
  },
  {
   "cell_type": "code",
   "execution_count": 21,
   "metadata": {},
   "outputs": [
    {
     "data": {
      "text/plain": [
       "[(6, 6), (6, 4), (10, -4), (16, 2)]"
      ]
     },
     "execution_count": 21,
     "metadata": {},
     "output_type": "execute_result"
    }
   ],
   "source": [
    "\"\"\"\n",
    "sample list\n",
    "nums1 = [6, 5, 3, 9]\n",
    "nums2 = [0, 1, 7, 7]\n",
    "\n",
    "\n",
    "output  - [(6, 6), (6, 4), (10, -4), (16, 2)]\n",
    "\n",
    "\"\"\"\n",
    "nums1 = [6, 5, 3, 9]\n",
    "nums2 = [0, 1, 7, 7]\n",
    "\n",
    "\n",
    "list(map(lambda x,y: (x+y,x-y) , nums1,nums2))\n"
   ]
  },
  {
   "cell_type": "code",
   "execution_count": 40,
   "metadata": {
    "executionInfo": {
     "elapsed": 437,
     "status": "ok",
     "timestamp": 1680814524518,
     "user": {
      "displayName": "RT K",
      "userId": "10922574611654761010"
     },
     "user_tz": 300
    },
    "id": "igalFyP7TLje"
   },
   "outputs": [
    {
     "name": "stdout",
     "output_type": "stream",
     "text": [
      "Original Characters:\n",
      " {'U', 'a', 'o', 'i', 'b', 'E', 'f'}\n",
      "\n",
      "After converting above characters in upper and lower cases\n",
      "and eliminating duplicate letters:\n",
      "{('O', 'o'), ('A', 'a'), ('U', 'u'), ('B', 'b'), ('E', 'e'), ('I', 'i'), ('F', 'f')}\n"
     ]
    }
   ],
   "source": [
    "# Write a Python program to convert all the characters in uppercase and lowercase and eliminate duplicate letters \n",
    "#from a given sequence\n",
    "\n",
    "def change_cases(s):\n",
    "    return str(s).upper(), str(s).lower()\n",
    " \n",
    "chrars = {'a', 'b', 'E', 'f', 'a', 'i', 'o', 'U', 'a'}  # set\n",
    "print(\"Original Characters:\\n\",chrars)\n",
    " \n",
    "result = map(change_cases, chrars)\n",
    "print(\"\\nAfter converting above characters in upper and lower cases\\nand eliminating duplicate letters:\")\n",
    "print(set(result))\n"
   ]
  },
  {
   "cell_type": "code",
   "execution_count": 52,
   "metadata": {
    "id": "oGfWcapoTLje"
   },
   "outputs": [
    {
     "name": "stdout",
     "output_type": "stream",
     "text": [
      "['apple', 'apricot', 'avocado']\n"
     ]
    }
   ],
   "source": [
    "# Filter out the fruits that start with A \n",
    "\n",
    "fruits = [\"apple\", \"banana\", \"apricot\", \"cherry\", \"avocado\"]\n",
    "\n",
    "filtered_fruits = list(filter(lambda x:  x.startswith(\"a\"), fruits))\n",
    "\n",
    "print(filtered_fruits)"
   ]
  },
  {
   "cell_type": "code",
   "execution_count": 51,
   "metadata": {
    "id": "0OKh8WwOTLjf"
   },
   "outputs": [
    {
     "data": {
      "text/plain": [
       "[23, 45, 34, 32]"
      ]
     },
     "execution_count": 51,
     "metadata": {},
     "output_type": "execute_result"
    }
   ],
   "source": [
    "# Filter out the positve number from a list\n",
    "\n",
    "positive = [23,45,-65,34,-89,32]\n",
    "\n",
    "list(filter(lambda x: x>0 , positive))"
   ]
  },
  {
   "cell_type": "code",
   "execution_count": 57,
   "metadata": {
    "id": "UXwwLrn3TLjf"
   },
   "outputs": [
    {
     "data": {
      "text/plain": [
       "[45]"
      ]
     },
     "execution_count": 57,
     "metadata": {},
     "output_type": "execute_result"
    }
   ],
   "source": [
    "# filter out the multiples of 3 and 5 from a list\n",
    "\n",
    "multiple = [23,45,65,34,89,32]\n",
    "\n",
    "list(filter(lambda x: x%3==0 , multiple))\n"
   ]
  },
  {
   "cell_type": "code",
   "execution_count": 67,
   "metadata": {
    "id": "YTHW_wrFTLjf"
   },
   "outputs": [
    {
     "data": {
      "text/plain": [
       "'datascientist'"
      ]
     },
     "execution_count": 67,
     "metadata": {},
     "output_type": "execute_result"
    }
   ],
   "source": [
    "# find the max string using reuduce function\n",
    "multiple = ['abhay','wanted','to','become','datascientist','mlenginner','sde','sdet']\n",
    "\n",
    "reduce(lambda x,y: x if len(x) > len(y) else y , multiple)\n",
    "\n"
   ]
  },
  {
   "cell_type": "code",
   "execution_count": 69,
   "metadata": {
    "id": "Bw3BajKhTLjg"
   },
   "outputs": [
    {
     "name": "stdout",
     "output_type": "stream",
     "text": [
      "Mean: 30.0\n",
      "Maximum: 50\n",
      "Minimum: 10\n"
     ]
    }
   ],
   "source": [
    "# find the mean , max and min of a given list using reduce function\n",
    "\n",
    "numbers = [10, 20, 30, 40, 50]\n",
    "\n",
    "mean = reduce(lambda x, y: x + y, numbers)/len(numbers)\n",
    "\n",
    "maximum = reduce(lambda x, y: x if x > y else y, numbers)\n",
    "minimum = reduce(lambda x, y: x if x < y else y, numbers)\n",
    "\n",
    "print(\"Mean:\", mean)\n",
    "print(\"Maximum:\", maximum)\n",
    "print(\"Minimum:\", minimum)"
   ]
  },
  {
   "cell_type": "code",
   "execution_count": null,
   "metadata": {},
   "outputs": [],
   "source": []
  }
 ],
 "metadata": {
  "colab": {
   "provenance": []
  },
  "kernelspec": {
   "display_name": "Python 3 (ipykernel)",
   "language": "python",
   "name": "python3"
  },
  "language_info": {
   "codemirror_mode": {
    "name": "ipython",
    "version": 3
   },
   "file_extension": ".py",
   "mimetype": "text/x-python",
   "name": "python",
   "nbconvert_exporter": "python",
   "pygments_lexer": "ipython3",
   "version": "3.9.13"
  }
 },
 "nbformat": 4,
 "nbformat_minor": 1
}
