{
 "cells": [
  {
   "cell_type": "code",
   "execution_count": null,
   "id": "29a8284a-c1e2-4c96-980a-c1ef1c09e207",
   "metadata": {},
   "outputs": [],
   "source": [
    "#Which are valid/invalid strings\n",
    "1. 'This is Python class'\n",
    "valid\n",
    "\n",
    "2. \"This is Python class\"\n",
    "valid\n",
    "\n",
    "3. '''This is Python class'''\n",
    "valid\n",
    "\n",
    "4. \"\"\"This is Python class\"\"\"\n",
    "valid\n",
    "\n",
    "5. 'This is Python's class'\n",
    "invalid\n",
    "\n",
    "6. \"Tutort provides \"Java\", \"Python\" classes\"\n",
    "invalid\n",
    "\n",
    "7. \"Tutort provides 'Java', 'Python' classes\"\n",
    "valid\n",
    "\n",
    "8. \"This is Python's class\"\n",
    "valid\n",
    "\n",
    "9. \"\"\"Tutort provides \"Java\", \"Python\" classes\"\"\"\n",
    "valid\n",
    "\n",
    "10. '''Tutort provides \"Java\", \"Python\" classes'''\n",
    "valid   #\n",
    "\n",
    "11. '''Tutort provides\n",
    "\"Java\", \"Python\" \n",
    "classes'''\n",
    "valid\n",
    "\n",
    "12. 'This is\n",
    "Python \n",
    "class'\n",
    "invalid\n"
   ]
  },
  {
   "cell_type": "code",
   "execution_count": 5,
   "id": "467b43cf-29e6-4339-860f-5429283d7806",
   "metadata": {},
   "outputs": [
    {
     "name": "stdout",
     "output_type": "stream",
     "text": [
      "length of my_str is 66\n",
      "140604238520624\n",
      "140604239153968\n",
      "False\n",
      "<class 'str'>\n"
     ]
    }
   ],
   "source": [
    "#Write the code to get the output mentioned below print statement\n",
    "my_str = \"Although that way may not be obvious at first unless you're Dutch.\"\n",
    "my_str1 = \"Although that way may not be obvious at first unless you're Dutch.\"\n",
    "\n",
    "print(\"length of my_str is \"+ str(len(my_str)))\n",
    "#output:- The length of my_str is 66\n",
    "print(id(my_str))\n",
    "print(id(my_str1))\n",
    "print(id(my_str) is id(my_str1))\n",
    "#output:- id of my_str and my_str1 is same? - True\n",
    "\n",
    "print(type(my_str))\n",
    "#output:- Type of my_str is: str"
   ]
  },
  {
   "cell_type": "code",
   "execution_count": 20,
   "id": "d619bbf3-619b-4f4b-a2f7-131aaf1829c2",
   "metadata": {},
   "outputs": [
    {
     "name": "stdout",
     "output_type": "stream",
     "text": [
      "The first character in my_str is:A\n",
      "The character at index 10 in my_str is:t\n",
      "The last character in my_str is:h\n",
      "The character in my_str is : 8\n"
     ]
    }
   ],
   "source": [
    "#Indexing\n",
    "my_str = \"Although 8 that way may not be obvious at first unless you're Dutch\"\n",
    "#Write the code to get the output,instructions are mentioned below print statement. use indexing\n",
    "\n",
    "print(\"The first character in my_str is:\" +  str(my_str[0]))\n",
    "#output:- The first character in my_str is: A\n",
    "#Note:- Use positive indexing\n",
    "\n",
    "\n",
    "# # print(my_str[length])\n",
    "# #output:- The last character in my_str is: h\n",
    "# #Note:- Use len() function.\n",
    "\n",
    "print('The character at index 10 in my_str is:' +  str(my_str[11]))\n",
    "#output:- The character at index 10 in my_str is: ' '\n",
    "#Note:- Use positive indexing.\n",
    "\n",
    "print('The last character in my_str is:' +  str(my_str[-1]))\n",
    "#output:- The last character in my_str is: h\n",
    "#Note:- Use negative indexing.\n",
    "\n",
    "# # print()\n",
    "# #output:- The last character in my_str is: h\n",
    "# #Note:- Use len() function.\n",
    "\n",
    "print(\"The character in my_str is : \" + str(my_str[9]))\n",
    "#output:- The character in my_str is: 8\n",
    "#Note:- Use positive index"
   ]
  },
  {
   "cell_type": "code",
   "execution_count": 52,
   "id": "7739ca69-b8df-4c01-8bf4-5aca2339b0e9",
   "metadata": {},
   "outputs": [
    {
     "name": "stdout",
     "output_type": "stream",
     "text": [
      "hat way\n",
      "yaw ta\n",
      "ess you\n"
     ]
    }
   ],
   "source": [
    "\n",
    "#Slicing\n",
    "my_str = \"Although that way may not be obvious at first unless you're Dutch.\"\n",
    "#Write the code to get the output,instructions are mentioned below print statement. use slicing\n",
    "print(my_str[:67:1])\n",
    "\n",
    "#output:- You have sliced: Although that way may not be obvious at first unless you're Dutch.Without begin, end and step\n",
    "\n",
    "lenght = len(my_str)\n",
    "print(my_str[0:lenght])\n",
    "\n",
    "output:- You have sliced: Although that way may not be obvious at first unless you're Dutch.with begin as 0 end using len and without step\n",
    "\n",
    "\n",
    "print(my_str[::1])\n",
    "#output:- You have sliced: Although that way may not be obvious at first unless you're Dutch.without begin and end but using step\n",
    "\n",
    "\n",
    "print(my_str[0:lenght:1])\n",
    "#output:- You have sliced: Although that way may not be obvious at first unless you're Dutch.With begin, end and step\n",
    "\n",
    "\n",
    "print()\n",
    "#output:- You have sliced:   .with using begin and end using postive values and step as negative values.\n",
    "#Slicing command should print empty string.\n",
    "\n",
    "\n",
    "print(my_str[0:67:2])\n",
    "output:- You have sliced: Atog htwymyntb biu tfrtuls o'eDth\n",
    "\n",
    "\n",
    "print(my_str[0:67:3])\n",
    "#output:- You have sliced: Ahgttam tebo  r lsorDc\n",
    "\n",
    "\n",
    "print(my_str[::-1])\n",
    "#output:- You have sliced: .hctuD er'uoy sselnu tsrif ta suoivbo eb ton yam yaw taht hguohtlA. Use only step\n",
    "\n",
    "\n",
    "print(my_str[-1:-67:-1])\n",
    "#output:- You have sliced: .hctuD er'uoy sselnu tsrif ta suoivbo eb ton yam yaw taht hguohtlA. Use begin end and step.\n",
    "\n",
    "\n",
    "print(my_str[::-2])\n",
    "#output:- You have sliced: .cu ruysen si asovoe o a a athuhl. use only step\n",
    "\n",
    "\n",
    "print(my_str[-1:-67:-2])\n",
    "#output:- You have sliced: .cu ruysen si asovoe o a a athuhl. use begin, end and step.\n",
    "\n",
    "\n",
    "print(my_str[10:17:1])\n",
    "#What will be the output?\n",
    "####no output\n",
    "\n",
    "print(my_str[-50:-56:-1])\n",
    "#output:- You have sliced: yaw ta, Using begin, end and step.\n",
    "\n",
    "print(my_str[49:56:1])\n",
    "#output:- You have sliced: ess you. Using begin, end and step.\n"
   ]
  },
  {
   "cell_type": "code",
   "execution_count": 60,
   "id": "4826d5fe-5fc5-4e7b-b0b7-891276924315",
   "metadata": {},
   "outputs": [
    {
     "ename": "ValueError",
     "evalue": "could not convert string to float: 'Learnbay'",
     "output_type": "error",
     "traceback": [
      "\u001b[0;31m---------------------------------------------------------------------------\u001b[0m",
      "\u001b[0;31mValueError\u001b[0m                                Traceback (most recent call last)",
      "\u001b[0;32m/var/folders/3k/7146jqbx6_x002rssyk90snw0000gs/T/ipykernel_64093/3542652268.py\u001b[0m in \u001b[0;36m<module>\u001b[0;34m\u001b[0m\n\u001b[1;32m     26\u001b[0m \u001b[0;34m\u001b[0m\u001b[0m\n\u001b[1;32m     27\u001b[0m \u001b[0;31m#Error: TypeError: can't multiply sequence by non-int of type 'str'\u001b[0m\u001b[0;34m\u001b[0m\u001b[0;34m\u001b[0m\u001b[0m\n\u001b[0;32m---> 28\u001b[0;31m \u001b[0mstr4\u001b[0m \u001b[0;34m=\u001b[0m \u001b[0mfloat\u001b[0m\u001b[0;34m(\u001b[0m\u001b[0mstr1\u001b[0m\u001b[0;34m)\u001b[0m\u001b[0;34m\u001b[0m\u001b[0;34m\u001b[0m\u001b[0m\n\u001b[0m\u001b[1;32m     29\u001b[0m \u001b[0mstr5\u001b[0m \u001b[0;34m=\u001b[0m \u001b[0mstr\u001b[0m\u001b[0;34m(\u001b[0m\u001b[0mstr4\u001b[0m\u001b[0;34m)\u001b[0m\u001b[0;34m\u001b[0m\u001b[0;34m\u001b[0m\u001b[0m\n\u001b[1;32m     30\u001b[0m \u001b[0mprint\u001b[0m\u001b[0;34m(\u001b[0m\u001b[0mstr5\u001b[0m\u001b[0;34m*\u001b[0m\u001b[0;36m3\u001b[0m\u001b[0;34m)\u001b[0m\u001b[0;34m\u001b[0m\u001b[0;34m\u001b[0m\u001b[0m\n",
      "\u001b[0;31mValueError\u001b[0m: could not convert string to float: 'Learnbay'"
     ]
    }
   ],
   "source": [
    "#Basic operation on string\n",
    "str1 = 'Learnbay'\n",
    "str2 = 'Python'\n",
    "\n",
    "# Write the code to get the output,instructions are mentioned below.\n",
    "Output is: Learnbay Python\n",
    "print(str1 + \" \"+ str2)\n",
    "\n",
    "# Error: TypeError: can only concatenate str (not \"int\") to str\n",
    "\n",
    "str3 = int(str1)\n",
    "print(str3 + str2 )\n",
    "\n",
    "# Error: TypeError: can only concatenate str (not \"float\") to str\n",
    "\n",
    "str4 = float(str1)\n",
    "print(str4 + str2 )\n",
    "\n",
    "# Find below Output\n",
    "# Output is: LearnbayLearnbayLearnbay\n",
    "print(str1*3)\n",
    "\n",
    "# Error: TypeError: can't multiply sequence by non-int of type 'float'\n",
    "str4 = float(str1)\n",
    "print(str4*3)\n",
    "\n",
    "#Error: TypeError: can't multiply sequence by non-int of type 'str'\n",
    "str4 = float(str1)\n",
    "str5 = str(str4)\n",
    "print(str5*3)"
   ]
  },
  {
   "cell_type": "code",
   "execution_count": 70,
   "id": "1ec1cd37-a82a-4c0a-8507-69339da45f6e",
   "metadata": {},
   "outputs": [
    {
     "name": "stdout",
     "output_type": "stream",
     "text": [
      "True\n",
      "False\n",
      "False\n",
      "True\n",
      "True\n",
      "False\n",
      "False\n"
     ]
    }
   ],
   "source": [
    "#Find below Output\n",
    "str1 = 'Python'\n",
    "str2 = 'Python'\n",
    "str3 = 'Python$'\n",
    "str4 = 'Python$'\n",
    "\n",
    "#print True by using identity operator between str1 and str2\n",
    "print(str1 is str2)\n",
    "\n",
    "#print False by using identity operator between str1 and str3\n",
    "print(str1 is str3)\n",
    "\n",
    "#print False by using identity operator between str4 and str3\n",
    "print(str4 is str3)\n",
    "\n",
    "#Check if P is available in str1 and print True by using membership operator\n",
    "print(\"P\"in str1)\n",
    "\n",
    "#Check if $ is available in str3 and print True by using membership operator\n",
    "print(\"$\"in str3)\n",
    "\n",
    "#Check if N is available in str3 and print False by using membership operator\n",
    "print(\"N\" in str3)\n",
    "print(\"n\" not in str3)\n"
   ]
  },
  {
   "cell_type": "code",
   "execution_count": 101,
   "id": "7e721204-85fc-4798-b90a-3ff65339cd52",
   "metadata": {},
   "outputs": [
    {
     "name": "stdout",
     "output_type": "stream",
     "text": [
      "This is Java class\n"
     ]
    }
   ],
   "source": [
    "#Complete the below code\n",
    "str1 = 'This is Python class'\n",
    "#write the code to replace 'Python' with 'Java' and you should get below error.\n",
    "#TypeError: 'str' object does not support item assignment.\n",
    "\n",
    "str1 = 'This is Java class'\n",
    "print(str1)"
   ]
  },
  {
   "cell_type": "code",
   "execution_count": 24,
   "id": "47abb9c0-b2fd-48f3-827a-347f1c2b2466",
   "metadata": {},
   "outputs": [
    {
     "name": "stdout",
     "output_type": "stream",
     "text": [
      "True\n",
      "True\n",
      "False\n",
      "False\n"
     ]
    }
   ],
   "source": [
    "str1 = 'A'\n",
    "str2 = 'A'\n",
    "#Compare str1 and str2 and print True using comparison operator\n",
    "print(str1 == str2)\n",
    "\n",
    "#Compare str1 and str2 and print True using equality operator\n",
    "print(str1 is str2)\n",
    "\n",
    "#Compare str1 and str2 and print False using equality operator\n",
    "print(id(str1) is id(str2))\n",
    "\n",
    "#Compare str1 and str2 and print False using comparison operator\n",
    "print(id(str1) > id(str2))\n"
   ]
  },
  {
   "cell_type": "code",
   "execution_count": 25,
   "id": "4430d4ee-cea3-4764-8ba4-4edf085d73bd",
   "metadata": {},
   "outputs": [
    {
     "name": "stdout",
     "output_type": "stream",
     "text": [
      "True\n",
      "True\n",
      "False\n",
      "False\n"
     ]
    }
   ],
   "source": [
    "str1 = 'A'\n",
    "str2 = 'a'\n",
    "#Compare str1 and str2 and print True using comparison operator\n",
    "print(str1 < str2)\n",
    "\n",
    "#Compare str1 and str2 and print True using equality operator\n",
    "print(str1 == str2.upper())\n",
    "\n",
    "#Compare str1 and str2 and print False using equality operator\n",
    "print(id(str1) is id(str2))\n",
    "\n",
    "#Compare str1 and str2 and print False using comparison operator\n",
    "print(id(str1) < id(str2))\n",
    "\n"
   ]
  },
  {
   "cell_type": "code",
   "execution_count": 100,
   "id": "be779e83-35fd-4311-a3cd-793f14e960b6",
   "metadata": {},
   "outputs": [
    {
     "name": "stdout",
     "output_type": "stream",
     "text": [
      "True\n",
      "False\n"
     ]
    }
   ],
   "source": [
    "str1 = 'A'\n",
    "str2 = '65'\n",
    "#Compare str1 and str2 using comparison operator and it should give below error.\n",
    "#Error: TypeError: '>=' not supported between instances of 'str' and 'int'\n",
    "# print(str1 = str2)\n",
    "\n",
    "#Compare str1 and str2 and print True using equality operator\n",
    "print(ord(str1) == int(str2))\n",
    "\n",
    "#Compare str1 and str2 and print False using equality operator\n",
    "print(str1 == str2)\n"
   ]
  },
  {
   "cell_type": "code",
   "execution_count": 31,
   "id": "c6cbafc9-44a0-486c-bdcb-26262672ad32",
   "metadata": {},
   "outputs": [
    {
     "name": "stdout",
     "output_type": "stream",
     "text": [
      "True\n",
      "True\n",
      "False\n",
      "False\n"
     ]
    }
   ],
   "source": [
    "str1 = 'Python'\n",
    "str2 = 'Python'\n",
    "\n",
    "#Compare str1 and str2 and print True using comparison operator\n",
    "print(str1 <= str2)\n",
    "\n",
    "#Compare str1 and str2 and print True using equality operator\n",
    "print(str1 is str2)\n",
    "\n",
    "#Compare str1 and str2 and print False using equality operator\n",
    "print(id(str1) is id(str2))\n",
    "\n",
    "#Compare str1 and str2 and print False using comparison operator\n",
    "print(id(str1) < id(str2))\n"
   ]
  },
  {
   "cell_type": "code",
   "execution_count": 85,
   "id": "25c63c1c-d3a7-4ecb-8140-9d55394e91e4",
   "metadata": {},
   "outputs": [
    {
     "name": "stdout",
     "output_type": "stream",
     "text": [
      "\n",
      "Python\n"
     ]
    }
   ],
   "source": [
    "a = 'Python'\n",
    "b = ''\n",
    "\n",
    "#Apply logical opereators (and, or & not) on above string values and observe the output.\n",
    "print(a and b)\n",
    "print(a or b)\n",
    "#print(a not b)"
   ]
  },
  {
   "cell_type": "code",
   "execution_count": 86,
   "id": "cf78ca67-847d-404a-829c-5c5a37bd3307",
   "metadata": {},
   "outputs": [
    {
     "name": "stdout",
     "output_type": "stream",
     "text": [
      "\n",
      "\n"
     ]
    }
   ],
   "source": [
    "a = ''\n",
    "b = ''\n",
    "\n",
    "#Apply logical opereators (and, or & not) on above string values and observe the output.\n",
    "print(a and b)\n",
    "print(a or b)\n",
    "#print(a not b) #-- a in b = True, a not in b = False ?"
   ]
  },
  {
   "cell_type": "code",
   "execution_count": 36,
   "id": "18df4bc7-0c50-4c49-89dd-8ce7cb9a4e98",
   "metadata": {},
   "outputs": [
    {
     "name": "stdout",
     "output_type": "stream",
     "text": [
      "Python\n",
      "Learnbay\n"
     ]
    }
   ],
   "source": [
    "a = 'Python'\n",
    "b = 'Learnbay'\n",
    "\n",
    "#Apply logical opereators (and, or & not) on above string values and observe the output.\n",
    "print(a or b)\n",
    "print(a and b)\n",
    "# print(a not b)"
   ]
  },
  {
   "cell_type": "code",
   "execution_count": 112,
   "id": "4d21339b-9c41-4f23-bb74-72f06b44c3b4",
   "metadata": {},
   "outputs": [
    {
     "name": "stdout",
     "output_type": "stream",
     "text": [
      "7\n",
      "2\n",
      "2\n",
      "9\n",
      "9\n",
      "-1\n",
      "14\n",
      "62\n",
      "66\n"
     ]
    }
   ],
   "source": [
    "my_str = \"Although 8 that way may not be obvious at first unless you're Dutch\"\n",
    "\n",
    "#Write the code to get the total count of 't' in above string. Use find() and index() method.\n",
    "print(my_str.count('t'))\n",
    "print(my_str.find('t'))\n",
    "print(my_str.index('t'))\n",
    "\n",
    "#Write the code to get the index of '8' in my_str. Use find() and index() method.\n",
    "print(my_str.find('8'))\n",
    "print(my_str.index('8'))\n",
    "\n",
    "#What will be the output of below code?\n",
    "print(my_str.find('the'))\n",
    "\n",
    "\n",
    "# print(my_str.index('the'))\n",
    "#error\n",
    "\n",
    "print(my_str.find('t', 12, 15))\n",
    "# to search letter 't' between the position 12 & 15 and print the index \n",
    "\n",
    "print(my_str.rfind('Dutch'))\n",
    "#last occurence of the character \n",
    "\n",
    "print(my_str.rindex('h'))\n",
    "\n",
    "#last occurence of the character "
   ]
  },
  {
   "cell_type": "code",
   "execution_count": 116,
   "id": "c1fcac82-92e0-415e-a4d8-fee27ac53967",
   "metadata": {},
   "outputs": [
    {
     "name": "stdout",
     "output_type": "stream",
     "text": [
      "Python\n",
      "Python\n",
      "Python\n"
     ]
    }
   ],
   "source": [
    "#W A P which applies strip() method if any string, which will be taken from user, starts and ends with space, or applies \n",
    "#rrstrip() method if that string only ends with space or applies lstrip() method if that string only starts with a space.\n",
    "\n",
    "#For example:-\n",
    "#input:- '    Python   '\n",
    "a = '    Python   '\n",
    "print(a.strip())\n",
    "#output:- 'Python'\n",
    "\n",
    "#input:- '    Python'\n",
    "a = '    Python'\n",
    "print(a.lstrip())\n",
    "#output:- 'Python'\n",
    "\n",
    "#input:- 'Python   '\n",
    "a = 'Python    '\n",
    "print(a.rstrip())\n",
    "#output:- 'Python'"
   ]
  },
  {
   "cell_type": "code",
   "execution_count": 202,
   "id": "5b6d3d88-dccc-4be3-bcbc-6435be541fb4",
   "metadata": {},
   "outputs": [
    {
     "name": "stdout",
     "output_type": "stream",
     "text": [
      "ALTHOUGH 8 THAT WAY MAY NOT BE OBVIOUS AT FIRST UNLESS YOU'RE DUTCH\n",
      "although 8 that way may not be obvious at first unless you're dutch\n",
      "ALTHOUGH 8 THAT WAY MAY NOT BE OBVIOUS AT FIRST UNLESS YOU'RE DUTCH\n",
      "although 8 that way may not be obvious at first unless you're dutch\n"
     ]
    }
   ],
   "source": [
    "my_str = \"Although 8 that way may not be obvious at first unless you're Dutch\"\n",
    "\n",
    "#Write the code to convert all alphabets in my_str into upper case.\n",
    "print(my_str.upper())\n",
    "\n",
    "#Write the code to convert all alphabets in my_str into lower case.\n",
    "print(my_str.lower())\n",
    "\n",
    "#Write the code to swap the cases of all alphabets in my_str.(lower to upper and upper to lower)\n",
    "my_str1 = my_str.upper()\n",
    "print(my_str1)\n",
    "my_str2 = my_str1.lower()\n",
    "print(my_str2)\n",
    "\n"
   ]
  },
  {
   "cell_type": "code",
   "execution_count": 201,
   "id": "fdd03bc4-757e-4c61-b4e0-81abd120cb17",
   "metadata": {},
   "outputs": [
    {
     "name": "stdout",
     "output_type": "stream",
     "text": [
      "Time\n"
     ]
    }
   ],
   "source": [
    "#Write the code which takes one string from user and if it starts with small case letter then convert it to corresponding \n",
    "#capital letter otherwise if starts with capital letters then convert first character of every word in that string into capital.\n",
    "user_input = 'time'\n",
    "\n",
    "if user_input.islower() == False:\n",
    "    print(user_input.lower())\n",
    "    \n",
    "if user_input.isupper() == False:\n",
    "    print(user_input.title())\n",
    "    "
   ]
  },
  {
   "cell_type": "code",
   "execution_count": 187,
   "id": "d68c93f4-de0e-4566-a160-88c93dc8eeba",
   "metadata": {},
   "outputs": [
    {
     "ename": "TypeError",
     "evalue": "'str' object is not callable",
     "output_type": "error",
     "traceback": [
      "\u001b[0;31m---------------------------------------------------------------------------\u001b[0m",
      "\u001b[0;31mTypeError\u001b[0m                                 Traceback (most recent call last)",
      "\u001b[0;32m/var/folders/3k/7146jqbx6_x002rssyk90snw0000gs/T/ipykernel_64093/470052067.py\u001b[0m in \u001b[0;36m<module>\u001b[0;34m\u001b[0m\n\u001b[1;32m      9\u001b[0m \u001b[0;31m#     8. numeric\u001b[0m\u001b[0;34m\u001b[0m\u001b[0;34m\u001b[0m\u001b[0m\n\u001b[1;32m     10\u001b[0m \u001b[0;31m#     9. all number elements in string are decimal\u001b[0m\u001b[0;34m\u001b[0m\u001b[0;34m\u001b[0m\u001b[0m\n\u001b[0;32m---> 11\u001b[0;31m \u001b[0minput_str\u001b[0m \u001b[0;34m=\u001b[0m \u001b[0minput\u001b[0m\u001b[0;34m(\u001b[0m\u001b[0;34m\"Enter a string: \"\u001b[0m\u001b[0;34m)\u001b[0m\u001b[0;34m\u001b[0m\u001b[0;34m\u001b[0m\u001b[0m\n\u001b[0m\u001b[1;32m     12\u001b[0m \u001b[0;34m\u001b[0m\u001b[0m\n\u001b[1;32m     13\u001b[0m \u001b[0;31m# Check if the string is alphanumeric\u001b[0m\u001b[0;34m\u001b[0m\u001b[0;34m\u001b[0m\u001b[0m\n",
      "\u001b[0;31mTypeError\u001b[0m: 'str' object is not callable"
     ]
    }
   ],
   "source": [
    "#Take a string from user and check if it is:-\n",
    "#     1. alphanumeric\n",
    "#     2. alphabets\n",
    "#     3. digit\n",
    "#     4. all letters are in lower case\n",
    "#     5. all letters are in upper case\n",
    "#     6. in title case\n",
    "#     7. a space character\n",
    "#     8. numeric\n",
    "#     9. all number elements in string are decimal\n",
    "input_str = input(\"Enter a string: \")\n",
    "\n",
    "# Check if the string is alphanumeric\n",
    "if input_str.isalnum():\n",
    "    print(\"The string is alphanumeric.\")\n",
    "\n",
    "# Check if the string contains only alphabets\n",
    "if input_str.isalpha():\n",
    "    print(\"The string contains only alphabets.\")\n",
    "\n",
    "# Check if the string contains only digits\n",
    "if input_str.isdigit():\n",
    "    print(\"The string contains only digits.\")\n",
    "\n",
    "# Check if all letters in the string are lowercase\n",
    "if input_str.islower():\n",
    "    print(\"All letters in the string are lowercase.\")\n",
    "\n",
    "# Check if all letters in the string are uppercase\n",
    "if input_str.isupper():\n",
    "    print(\"All letters in the string are uppercase.\")\n",
    "\n",
    "# Check if the string is in title case\n",
    "if input_str.istitle():\n",
    "    print(\"The string is in title case.\")\n",
    "\n",
    "# Check if the string contains only whitespace characters\n",
    "if input_str.isspace():\n",
    "    print(\"The string contains only whitespace characters.\")\n",
    "\n",
    "# Check if the string is numeric\n",
    "if input_str.isnumeric():\n",
    "    print(\"The string is numeric.\")\n",
    "\n",
    "# Check if all numeric characters in the string are decimal\n",
    "if input_str.isdecimal():\n",
    "    print(\"All numeric characters in the string are decimal.\")"
   ]
  },
  {
   "cell_type": "code",
   "execution_count": null,
   "id": "5369ea42-5cb0-472f-9822-3b000d7e6b2b",
   "metadata": {},
   "outputs": [],
   "source": [
    "#W A P which takes a string as an input and prints True if the string is valid identifier else returns False.\n",
    "#Sample Input:- 'abc', 'abc1', 'ab1c', '1abc', 'abc$', '_abc', 'if'\n",
    "\n"
   ]
  },
  {
   "cell_type": "code",
   "execution_count": 154,
   "id": "8671fba1-ef4e-4c60-885c-5fbac42161d7",
   "metadata": {},
   "outputs": [
    {
     "name": "stdout",
     "output_type": "stream",
     "text": [
      "True\n",
      "False\n",
      "False\n",
      "True\n"
     ]
    }
   ],
   "source": [
    "#What will be output of below code?\n",
    "s = chr(65) + chr(97)\n",
    "print(s.isprintable())\n",
    "\n",
    "s = chr(27) + chr(97)\n",
    "print(s.isprintable())\n",
    "\n",
    "s = '\\n'\n",
    "print(s.isprintable())\n",
    "\n",
    "s = ''\n",
    "print(s.isprintable())"
   ]
  },
  {
   "cell_type": "code",
   "execution_count": 117,
   "id": "0fba7c28-bf58-4c96-9beb-9f0913b29f8f",
   "metadata": {},
   "outputs": [
    {
     "name": "stdout",
     "output_type": "stream",
     "text": [
      "True\n",
      "True\n",
      "True\n",
      "True\n",
      "False\n",
      "False\n"
     ]
    }
   ],
   "source": [
    "#What will be output of below code?\n",
    "my_string = '  '\n",
    "print(my_string.isascii())\n",
    "\n",
    "my_string = 'Studytonight'\n",
    "print(my_string.isascii())\n",
    "\n",
    "my_string = 'Study tonight'\n",
    "print(my_string.isascii())\n",
    "\n",
    "my_string = 'Studytonight@123'\n",
    "print(my_string.isascii())\n",
    "\n",
    "my_string = '°'\n",
    "print(my_string.isascii())\n",
    "\n",
    "my_string = 'ö'\n",
    "print(my_string.isascii())"
   ]
  },
  {
   "cell_type": "code",
   "execution_count": 118,
   "id": "20d8f1e4-d0e2-42c6-9b09-31da01fd8d9f",
   "metadata": {},
   "outputs": [
    {
     "name": "stdout",
     "output_type": "stream",
     "text": [
      "The strings are equal.\n"
     ]
    }
   ],
   "source": [
    "#What will be the output of below code?\n",
    "firstString = \"der Fluß\"\n",
    "secondString = \"der Fluss\"\n",
    "\n",
    "if firstString.casefold() == secondString.casefold():\n",
    "    print('The strings are equal.')\n",
    "else:\n",
    "    print('The strings are not equal.')"
   ]
  },
  {
   "cell_type": "code",
   "execution_count": 139,
   "id": "79e5c3eb-e153-407b-8bb0-dc3be9afd447",
   "metadata": {},
   "outputs": [
    {
     "name": "stdout",
     "output_type": "stream",
     "text": [
      "python**\n",
      "**python\n"
     ]
    },
    {
     "data": {
      "text/plain": [
       "'**python**'"
      ]
     },
     "execution_count": 139,
     "metadata": {},
     "output_type": "execute_result"
    }
   ],
   "source": [
    "#Write the code to get below output\n",
    "\n",
    "#O/P 1:- python** (using ljust method)\n",
    "my_str = 'python'\n",
    "\n",
    "print(my_str.ljust(8,'*'))\n",
    "\n",
    "#Write the code to get below output\n",
    "#O/P 1:- **python (using rjust method)\n",
    "print(my_str.rjust(8,'*'))\n",
    "\n",
    "#Write the code to get below output\n",
    "#O/P 1:- **python** (using rjust method)\n",
    "str_2 = my_str.rjust(8,'*')\n",
    "str_2.ljust(10,'*')"
   ]
  },
  {
   "cell_type": "code",
   "execution_count": 133,
   "id": "d2262ce4-df6f-4423-8f48-89ae553707a7",
   "metadata": {},
   "outputs": [
    {
     "name": "stdout",
     "output_type": "stream",
     "text": [
      "55\n"
     ]
    }
   ],
   "source": [
    "#Write a Python program to find the length of the my_str:-\n",
    "\n",
    "Input =  'Write a Python program to find the length of the my_str'\n",
    "print(len(Input))\n",
    "#Output:- 55\n"
   ]
  },
  {
   "cell_type": "code",
   "execution_count": 153,
   "id": "caf24cb0-9640-4576-b48e-42fbe58e8cea",
   "metadata": {},
   "outputs": [
    {
     "name": "stdout",
     "output_type": "stream",
     "text": [
      "9\n"
     ]
    }
   ],
   "source": [
    "#Write a Python program to find the total number of times letter 'p' is appeared in the below string:-\n",
    "    \n",
    "Input= 'peter piper picked a peck of pickled peppers.'\n",
    "print(Input.count('p'))\n",
    "#Output:- 9\n",
    "\n"
   ]
  },
  {
   "cell_type": "code",
   "execution_count": 158,
   "id": "bddf82fc-0791-4fd5-b25b-339c1a5520aa",
   "metadata": {},
   "outputs": [
    {
     "name": "stdout",
     "output_type": "stream",
     "text": [
      "0\n",
      "6\n",
      "8\n",
      "12\n",
      "21\n",
      "29\n",
      "37\n",
      "39\n",
      "40\n"
     ]
    }
   ],
   "source": [
    "#Write a Python Program, to print all the indexes of all occurences of letter 'p' appeared in the string:-    \n",
    "Input =  'peter piper picked a peck of pickled peppers.'\n",
    "# loop through each character of the input string\n",
    "for i in range(len(Input)):\n",
    "    # if the current character is 'p',print the index\n",
    "    if Input[i] == 'p':\n",
    "        print(i)\n",
    "\n",
    "# 0\n",
    "# 6\n",
    "# 8\n",
    "# 12\n",
    "# 21\n",
    "# 29\n",
    "#37\n",
    "#39\n",
    "#40\n"
   ]
  },
  {
   "cell_type": "code",
   "execution_count": 173,
   "id": "544ab375-524e-4235-821f-c5f8198497f8",
   "metadata": {},
   "outputs": [
    {
     "name": "stdout",
     "output_type": "stream",
     "text": [
      "['peter', 'piper', 'picked', 'a', 'peck', 'of', 'pickled', 'peppers.']\n"
     ]
    }
   ],
   "source": [
    "#Write a python program to find below output:-\n",
    "\n",
    "#Input:- 'peter piper picked a peck of pickled peppers.'\n",
    "\n",
    "#Output:- ['peter', 'piper', 'picked', 'a', 'peck', 'of', 'pickled', 'peppers.']\n",
    "input = 'peter piper picked a peck of pickled peppers.'\n",
    "words = input.split()\n",
    "print(words)\n"
   ]
  },
  {
   "cell_type": "code",
   "execution_count": 163,
   "id": "656513cb-b711-4ec1-b922-ca2e2004f1ff",
   "metadata": {},
   "outputs": [
    {
     "name": "stdout",
     "output_type": "stream",
     "text": [
      "peppers. pickled of peck a picked piper peter\n"
     ]
    }
   ],
   "source": [
    "#Write a python program to find below output:-\n",
    "\n",
    "Input= 'peter piper picked a peck of pickled peppers.'\n",
    "# split the input string into words\n",
    "words = Input.split()\n",
    "# reverse the order of the words\n",
    "words.reverse()\n",
    "# join the words using a space as separator\n",
    "output_str = ' '.join(words)\n",
    "# print the output string\n",
    "print(output_str)\n",
    "#Output:- 'peppers. pickled of peck a picked piper peter'\n",
    "\n"
   ]
  },
  {
   "cell_type": "code",
   "execution_count": 167,
   "id": "da708971-f27b-4384-9be9-20d05933290c",
   "metadata": {},
   "outputs": [
    {
     "name": "stdout",
     "output_type": "stream",
     "text": [
      ".sreppep delkcip fo kcep a dekcip repip retep\n"
     ]
    }
   ],
   "source": [
    "#Write a python program to find below output:-\n",
    "\n",
    "Input ='peter piper picked a peck of pickled peppers.'\n",
    "print(Input[::-1])\n",
    "#Output:- '.sreppep delkcip fo kcep a dekcip repip retep'\n",
    "\n"
   ]
  },
  {
   "cell_type": "code",
   "execution_count": 33,
   "id": "579d4656-6402-4f5b-99a2-ac7666784003",
   "metadata": {},
   "outputs": [
    {
     "data": {
      "text/plain": [
       "'retep repip dekcip a kcep fo delkcip .sreppep'"
      ]
     },
     "execution_count": 33,
     "metadata": {},
     "output_type": "execute_result"
    }
   ],
   "source": [
    "\n",
    "#Write a python program to find below output:-\n",
    "\n",
    "input = 'peter piper picked a peck of pickled peppers.'\n",
    "\n",
    "# #Output:- 'retep repip dekcip a kcep fo delkcip .sreppep'\n",
    "\n",
    "\n",
    "new_lst = input.split()\n",
    "# lst = [word[::-1] for word in new_lst]\n",
    "# print(new_lst)\n",
    "lst=[]\n",
    "for i in new_lst:\n",
    "     lst.append(i[::-1]) \n",
    "\n",
    "word= ' '.join(lst)\n",
    "word"
   ]
  },
  {
   "cell_type": "code",
   "execution_count": 181,
   "id": "ac8cb21f-9452-48bc-ab9b-1d13b4471b8f",
   "metadata": {},
   "outputs": [
    {
     "name": "stdout",
     "output_type": "stream",
     "text": [
      "Peter Piper Picked A Peck Of Pickled Peppers.\n"
     ]
    }
   ],
   "source": [
    "#Write a python program to find below output:-\n",
    "\n",
    "Input = 'peter piper picked a peck of pickled peppers.'\n",
    "print(Input.title())\n",
    "#Output:- 'Peter Piper Picked A Peck Of Pickled Peppers.'\n",
    "\n"
   ]
  },
  {
   "cell_type": "code",
   "execution_count": null,
   "id": "09b228df-c6c5-4df5-9d81-29173ae588a9",
   "metadata": {},
   "outputs": [],
   "source": []
  },
  {
   "cell_type": "code",
   "execution_count": 183,
   "id": "69a2c383-607b-46b7-b283-ec9dcba6018f",
   "metadata": {},
   "outputs": [
    {
     "name": "stdout",
     "output_type": "stream",
     "text": [
      "Peter piper picked a peck of pickled peppers.\n"
     ]
    }
   ],
   "source": [
    "#Write a python program to find below output:-\n",
    "\n",
    "input = 'Peter Piper Picked A Peck Of Pickled Peppers.'\n",
    "print(input.capitalize())\n",
    "#Output:- 'Peter piper picked a peck of pickled peppers.'\n",
    "\n"
   ]
  },
  {
   "cell_type": "code",
   "execution_count": 208,
   "id": "d41b14cf-6a76-454a-a577-ad8930c60c1a",
   "metadata": {},
   "outputs": [
    {
     "name": "stdout",
     "output_type": "stream",
     "text": [
      "29\n"
     ]
    }
   ],
   "source": [
    "#Write a python program to implement index method. If sub_str is found in my_str then it will print the index\n",
    "# of first occurrence of first character of matching string in my_str:-\n",
    "\n",
    "my_str = 'Peter Piper Picked A Peck Of Pickled Peppers.'\n",
    "sub_str = 'Pickl'\n",
    "if sub_str in my_str:\n",
    "    print(my_str.index(sub_str))\n",
    "#Output:- 29\n",
    "\n"
   ]
  },
  {
   "cell_type": "code",
   "execution_count": 207,
   "id": "f48db4b8-0026-436b-8bbd-66e2f6f12d8f",
   "metadata": {},
   "outputs": [
    {
     "name": "stdout",
     "output_type": "stream",
     "text": [
      "Peter Piper Picked A Pack Of Pickled Peppers.\n"
     ]
    }
   ],
   "source": [
    "#Write a python program to implement replace method. If sub_str is found in my_str then it will replace the first \n",
    "#occurrence of sub_str with new_str else it will will print sub_str not found:-\n",
    "\n",
    "my_str = 'Peter Piper Picked A Peck Of Pickled Peppers.'\n",
    "sub_str = 'Peck'\n",
    "new_str = 'Pack'\n",
    "if sub_str in my_str:\n",
    "    new_string =  my_str.replace(sub_str, new_str,1)\n",
    "print(new_string)\n",
    "# #Output:- 'Peter Piper Picked A Pack Of Pickled Peppers.'\n",
    "\n",
    "\n",
    "\n"
   ]
  },
  {
   "cell_type": "code",
   "execution_count": 17,
   "id": "1ddfc53b-2594-4067-88cc-d0a3900a8261",
   "metadata": {},
   "outputs": [
    {
     "name": "stdout",
     "output_type": "stream",
     "text": [
      "45\n",
      "********************Peck****************\n"
     ]
    }
   ],
   "source": [
    "#Write a python program to find below output (implements rjust and ljust):-\n",
    "\n",
    "Input = 'Peter Piper Picked A Peck Of Pickled Peppers.'\n",
    "sub_str = 'Peck' \n",
    "#Output:- '*********************Peck********************'\n",
    "print(len(Input))\n",
    "if sub_str in Input:\n",
    "    new_str = sub_str.ljust(20,'*')\n",
    "    print(new_str.rjust(40,'*'))\n"
   ]
  },
  {
   "cell_type": "code",
   "execution_count": null,
   "id": "5387f6da-2455-4993-8da4-71fdc032ab2e",
   "metadata": {},
   "outputs": [],
   "source": []
  }
 ],
 "metadata": {
  "kernelspec": {
   "display_name": "Python 3 (ipykernel)",
   "language": "python",
   "name": "python3"
  },
  "language_info": {
   "codemirror_mode": {
    "name": "ipython",
    "version": 3
   },
   "file_extension": ".py",
   "mimetype": "text/x-python",
   "name": "python",
   "nbconvert_exporter": "python",
   "pygments_lexer": "ipython3",
   "version": "3.9.13"
  }
 },
 "nbformat": 4,
 "nbformat_minor": 5
}
