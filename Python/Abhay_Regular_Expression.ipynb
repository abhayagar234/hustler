{
 "cells": [
  {
   "cell_type": "code",
   "execution_count": 1,
   "metadata": {
    "id": "xMLU30SQxZCH"
   },
   "outputs": [
    {
     "name": "stdout",
     "output_type": "stream",
     "text": [
      "['cat']\n"
     ]
    }
   ],
   "source": [
    "#Write the regular expression and use proper method which gives output as:- 'cat' in str.\n",
    "import re\n",
    "str = 'cat mat bat rat'\n",
    "x = re.findall(\"cat\", str)\n",
    "print(x) "
   ]
  },
  {
   "cell_type": "code",
   "execution_count": 2,
   "metadata": {
    "id": "zMiSTGMHx6Dv"
   },
   "outputs": [
    {
     "name": "stdout",
     "output_type": "stream",
     "text": [
      "['rat']\n"
     ]
    }
   ],
   "source": [
    "#Write the regular expression and use proper method which gives output as:- 'rat' in str.\n",
    "import re\n",
    "str = 'cat mat bat rat'\n",
    "x = re.findall(\"rat\", str)\n",
    "print(x) "
   ]
  },
  {
   "cell_type": "code",
   "execution_count": 3,
   "metadata": {
    "id": "qBoYFjf5x6Mm"
   },
   "outputs": [
    {
     "name": "stdout",
     "output_type": "stream",
     "text": [
      "['mat'] ['man']\n"
     ]
    }
   ],
   "source": [
    "#Write the regular expression and use proper method which gives output as:- ['mat', 'man'] in str.\n",
    "import re\n",
    "str = 'cat mat bat rat man'\n",
    "x = re.findall(\"mat\", str)\n",
    "y = re.findall(\"man\", str)\n",
    "print(x,y) "
   ]
  },
  {
   "cell_type": "code",
   "execution_count": 4,
   "metadata": {
    "id": "qmxmqzX_x6QR"
   },
   "outputs": [
    {
     "name": "stdout",
     "output_type": "stream",
     "text": [
      "[\"Python's\", 'Programming:', 'is', 'very', 'easy', 'to', 'learn']\n"
     ]
    }
   ],
   "source": [
    "#Write the regular expression and use proper method which gives output as:- \n",
    "#['Python', 's', 'Programming', 'is', 'very', 'easy', 'to', 'learn'] in str.\n",
    "import re\n",
    "str = \"Python's Programming: is very easy to learn\"\n",
    "x = re.split(\" \",str)\n",
    "print(x)"
   ]
  },
  {
   "cell_type": "code",
   "execution_count": 5,
   "metadata": {
    "id": "LxGl1o7px6Vi"
   },
   "outputs": [
    {
     "name": "stdout",
     "output_type": "stream",
     "text": [
      "Python Programming: is very easy to learn\n"
     ]
    }
   ],
   "source": [
    "#Write the regular expression and use proper method which gives output as:- Python Programming: is very easy to learn in str.\n",
    "import re\n",
    "str = \"Python's Programming: is very easy to learn\"\n",
    "print(re.sub(r\"'s\\b\", '', str))\n"
   ]
  },
  {
   "cell_type": "code",
   "execution_count": 6,
   "metadata": {
    "id": "9uIpb614x6Yb"
   },
   "outputs": [
    {
     "name": "stdout",
     "output_type": "stream",
     "text": [
      "['peter', 'picked', 'peck', 'pickled', 'peppers']\n"
     ]
    }
   ],
   "source": [
    "#Write the regular expression and use proper method which Retrieves all words starting with p.\n",
    "#Output:- ['peter', 'per', 'picked', 'peck', 'pickled', 'peppers']\n",
    "import re\n",
    "str = \"peter giper picked a peck of pickled peppers\"\n",
    "\n",
    "matches = re.findall(r'\\bp\\w+', str)\n",
    "\n",
    "print(matches)"
   ]
  },
  {
   "cell_type": "code",
   "execution_count": 7,
   "metadata": {
    "id": "N0vFkePdx6bN"
   },
   "outputs": [
    {
     "name": "stdout",
     "output_type": "stream",
     "text": [
      "['peter', 'picked', 'peck', 'pickled', 'peppers']\n"
     ]
    }
   ],
   "source": [
    "#Write the regular expression and use proper method which Retrieves all words starting with p except 'per' which is not a separate word.\n",
    "#Output:- ['peter', 'picked', 'peck', 'pickled', 'peppers']\n",
    "import re\n",
    "str = \"peter giper picked a peck of pickled peppers\"\n",
    "\n",
    "pattern = r'\\bp(?!er)\\w*'\n",
    "\n",
    "matches = re.findall(pattern, str)\n",
    "\n",
    "print(matches)\n"
   ]
  },
  {
   "cell_type": "code",
   "execution_count": 8,
   "metadata": {
    "id": "mbiypO3yx6eE"
   },
   "outputs": [
    {
     "name": "stdout",
     "output_type": "stream",
     "text": [
      "['8th', '11th']\n"
     ]
    }
   ],
   "source": [
    "#Write the regular expression and use proper method which Retrieves all words starting with a digit.\n",
    "#Output:- ['8th', '11th']\n",
    "import re\n",
    "str = 'The election in delhi will be held on 8th and result for the same will be declared on 11th'\n",
    "\n",
    "pattern = r'\\b\\d\\w*'\n",
    "\n",
    "matches = re.findall(pattern, str)\n",
    "\n",
    "print(matches)"
   ]
  },
  {
   "cell_type": "code",
   "execution_count": 9,
   "metadata": {
    "id": "6ZUWWd6bx6g8"
   },
   "outputs": [
    {
     "name": "stdout",
     "output_type": "stream",
     "text": [
      "['peter', 'giper']\n"
     ]
    }
   ],
   "source": [
    "#Write the regular expression and use proper method which Retrieves all words having 5 characters.\n",
    "#Output:- ['peter', 'giper']\n",
    "import re\n",
    "str = \"peter giper picked a peck of pickled peppers\"\n",
    "\n",
    "pattern = r'\\b\\w{5}\\b'\n",
    "\n",
    "matches = re.findall(pattern, str)\n",
    "\n",
    "print(matches)"
   ]
  },
  {
   "cell_type": "code",
   "execution_count": 10,
   "metadata": {
    "id": "syuXvEXox6jt"
   },
   "outputs": [
    {
     "name": "stdout",
     "output_type": "stream",
     "text": [
      "['Retrieving', 'words', 'having', 'least', 'characters']\n"
     ]
    }
   ],
   "source": [
    "#Write the regular expression and use proper method which Retrieves all words having at least 4 characters.\n",
    "#Output:- ['Retrieving',  'words', 'having', 'least', 'characters']\n",
    "import re\n",
    "str = \"Retrieving all words having at least 4 characters\"\n",
    "\n",
    "pattern = r'\\b\\w{4,}\\b'\n",
    "\n",
    "matches = re.findall(pattern, str)\n",
    "\n",
    "print(matches)\n"
   ]
  },
  {
   "cell_type": "code",
   "execution_count": 11,
   "metadata": {
    "id": "MtXo1Hf8x6ma"
   },
   "outputs": [
    {
     "name": "stdout",
     "output_type": "stream",
     "text": [
      "['all', 'words', 'least']\n"
     ]
    }
   ],
   "source": [
    "#Write the regular expression and use proper method which Retrieves all words having at characters between 3 to 5 words.\n",
    "#Output:- ['all', 'words', 'least']\n",
    "import re\n",
    "str = \"Retrieving all words having at least 4 characters\"\n",
    "\n",
    "pattern = r'\\b\\w{3,5}\\b'\n",
    "\n",
    "matches = re.findall(pattern, str)\n",
    "\n",
    "print(matches)\n",
    "\n"
   ]
  },
  {
   "cell_type": "code",
   "execution_count": 12,
   "metadata": {
    "id": "RlvMct7xx6pE"
   },
   "outputs": [
    {
     "name": "stdout",
     "output_type": "stream",
     "text": [
      "['8', '11']\n"
     ]
    }
   ],
   "source": [
    "#Write the regular expression and use proper method which Retrieves only digits from the string.\n",
    "#Output:- ['8', '11']\n",
    "import re\n",
    "str = 'The election in delhi will be held on 8 and result for the same will be declared on 11'\n",
    "pattern = r'\\d+'\n",
    "\n",
    "matches = re.findall(pattern, str)\n",
    "\n",
    "print(matches)"
   ]
  },
  {
   "cell_type": "code",
   "execution_count": 13,
   "metadata": {
    "id": "wdD4cSyJx6us"
   },
   "outputs": [
    {
     "name": "stdout",
     "output_type": "stream",
     "text": [
      "['characters']\n"
     ]
    }
   ],
   "source": [
    "#Write the regular expression and use proper method which Retrieves last word if starts with c from the given string.\n",
    "#Output:- ['characters']\n",
    "import re\n",
    "str = \"Retrieving all words having at least 4 characters\"\n",
    "\n",
    "pattern = r'\\bc\\w*'\n",
    "\n",
    "matches = re.findall(pattern, str)\n",
    "\n",
    "print(matches)\n"
   ]
  },
  {
   "cell_type": "code",
   "execution_count": 14,
   "metadata": {
    "id": "HsVGzJVbx6sl"
   },
   "outputs": [
    {
     "name": "stdout",
     "output_type": "stream",
     "text": [
      "['1234567890']\n"
     ]
    }
   ],
   "source": [
    "#Write the regular expression and use proper method which Retrieves a phone number from the given string.\n",
    "#Output:- 1234567890\n",
    "import re\n",
    "str = \"Learnbay : 1234567890\"\n",
    "\n",
    "pattern = r'\\d+'\n",
    "\n",
    "matches = re.findall(pattern, str)\n",
    "\n",
    "print(matches)\n"
   ]
  },
  {
   "cell_type": "code",
   "execution_count": 15,
   "metadata": {
    "id": "LvG3jTtvyQKk"
   },
   "outputs": [
    {
     "data": {
      "text/plain": [
       "[]"
      ]
     },
     "execution_count": 15,
     "metadata": {},
     "output_type": "execute_result"
    }
   ],
   "source": [
    "##Write the regular expression and use proper method which Etracts name from the string but not number.\n",
    "#Output:- Learnbay : \n",
    "import re\n",
    "str = \"Learnbay : 1234567890\"\n",
    "\n",
    "# pattern = r'[^\\d]+'\n",
    "\n",
    "# matches = re.findall(pattern, str)\n",
    "\n",
    "# print(matches[0])\n",
    "\n",
    "pattern = r'^\\d+'\n",
    "\n",
    "matches = re.findall(pattern, str)\n",
    "\n",
    "matches"
   ]
  },
  {
   "cell_type": "code",
   "execution_count": 16,
   "metadata": {
    "id": "drArGXgKyQNz"
   },
   "outputs": [
    {
     "name": "stdout",
     "output_type": "stream",
     "text": [
      "['anil', 'akhil', 'anant', 'ankur']\n"
     ]
    }
   ],
   "source": [
    "##Write the regular expression and use proper method which Retrieves name starting with 'an' or 'ak'.\n",
    "#Output:- ['anil', 'akhil', 'anant', 'ankur']\n",
    "import re\n",
    "str = 'anil akhil anant abhi arun arati arundhati abhijit ankur'\n",
    "\n",
    "pattern = r'\\b(?:an|ak)\\w+\\b'\n",
    "\n",
    "matches = re.findall(pattern, str)\n",
    "\n",
    "print(matches)\n"
   ]
  },
  {
   "cell_type": "code",
   "execution_count": 17,
   "metadata": {},
   "outputs": [
    {
     "data": {
      "text/plain": [
       "'auc100cn102'"
      ]
     },
     "execution_count": 17,
     "metadata": {},
     "output_type": "execute_result"
    }
   ],
   "source": [
    "text = \"My enrollement number is auc100cn102\"\n",
    "\n",
    "reg_exp = re.compile(r'auc\\d\\d\\dcn\\d\\d\\d')\n",
    "sech= reg_exp.search(text)\n",
    "sech.group()"
   ]
  },
  {
   "cell_type": "code",
   "execution_count": 18,
   "metadata": {},
   "outputs": [],
   "source": [
    "text = 'The date is 18-10-2023'\n"
   ]
  },
  {
   "cell_type": "code",
   "execution_count": 19,
   "metadata": {},
   "outputs": [
    {
     "name": "stdout",
     "output_type": "stream",
     "text": [
      "pin code: 0141\n",
      "number: 0141-2365243\n"
     ]
    }
   ],
   "source": [
    "text= 'My Telephone number is 0141-2365243'\n",
    "reg_exp = re.compile(r'(\\d\\d\\d\\d)-(\\d\\d\\d\\d\\d\\d\\d)')\n",
    "seach = reg_exp.search(text)\n",
    "print('pin code:', seach.group(1))\n",
    "print('number:',seach.group())\n",
    "            "
   ]
  },
  {
   "cell_type": "code",
   "execution_count": 20,
   "metadata": {},
   "outputs": [
    {
     "name": "stdout",
     "output_type": "stream",
     "text": [
      "pin code: 0141\n"
     ]
    }
   ],
   "source": [
    "text = 'My Telephone number are 0141-236524 and 0121-345678 '\n",
    "reg_exp = re.findall(r'(\\d\\d\\d\\d)-(\\d\\d\\d\\d\\d\\d)',text)\n",
    "\n",
    "print('pin code:', reg_exp[0][0])"
   ]
  },
  {
   "cell_type": "code",
   "execution_count": 21,
   "metadata": {},
   "outputs": [
    {
     "data": {
      "text/plain": [
       "[('0141', '236524'), ('0121', '345678')]"
      ]
     },
     "execution_count": 21,
     "metadata": {},
     "output_type": "execute_result"
    }
   ],
   "source": [
    "reg_exp[0:10]"
   ]
  },
  {
   "cell_type": "code",
   "execution_count": null,
   "metadata": {},
   "outputs": [],
   "source": []
  }
 ],
 "metadata": {
  "colab": {
   "name": "Regular_Expression.ipynb",
   "provenance": []
  },
  "kernelspec": {
   "display_name": "Python 3 (ipykernel)",
   "language": "python",
   "name": "python3"
  },
  "language_info": {
   "codemirror_mode": {
    "name": "ipython",
    "version": 3
   },
   "file_extension": ".py",
   "mimetype": "text/x-python",
   "name": "python",
   "nbconvert_exporter": "python",
   "pygments_lexer": "ipython3",
   "version": "3.9.13"
  }
 },
 "nbformat": 4,
 "nbformat_minor": 1
}
